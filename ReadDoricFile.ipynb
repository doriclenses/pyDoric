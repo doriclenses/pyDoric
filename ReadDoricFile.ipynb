{
  "nbformat": 4,
  "nbformat_minor": 0,
  "metadata": {
    "colab": {
      "provenance": [],
      "authorship_tag": "ABX9TyMkXlgpwkZv9F0J6+JmhArt",
      "include_colab_link": true
    },
    "kernelspec": {
      "name": "python3",
      "display_name": "Python 3"
    },
    "language_info": {
      "name": "python"
    }
  },
  "cells": [
    {
      "cell_type": "markdown",
      "metadata": {
        "id": "view-in-github",
        "colab_type": "text"
      },
      "source": [
        "<a href=\"https://colab.research.google.com/github/doriclenses/pyDoric/blob/main/ReadDoricFile.ipynb\" target=\"_parent\"><img src=\"https://colab.research.google.com/assets/colab-badge.svg\" alt=\"Open In Colab\"/></a>"
      ]
    },
    {
      "cell_type": "markdown",
      "source": [
        "# Read Doric File"
      ],
      "metadata": {
        "id": "kphd2vUIzkIP"
      }
    },
    {
      "cell_type": "markdown",
      "source": [
        "Three possible options on how you can implement this code for your data analysis:\n",
        "\n",
        "1. copy this notebook to your Google drive, as well as Console_Acq_0000.doric file. Then follow the steps of the notebook.\n",
        "\n",
        "2. download this notebook and Console_Acq_0000.doric to your computer. Then follow the steps of the notebook. We assume that you have [Anaconda](https://docs.anaconda.com/free/anaconda/install/windows/) installed.\n",
        "\n",
        "3. copy parts of this code to your python code."
      ],
      "metadata": {
        "id": "gEC831h597AK"
      }
    },
    {
      "cell_type": "markdown",
      "source": [
        "### Implort libraries"
      ],
      "metadata": {
        "id": "PffPUMg07oU1"
      }
    },
    {
      "cell_type": "markdown",
      "source": [
        "If you run code on your local machine make sure to install the following libraries beforehand:\n",
        "- h5py\n",
        "- numpy\n",
        "- matplotlib\n"
      ],
      "metadata": {
        "id": "Ut9pmxq27uKN"
      }
    },
    {
      "cell_type": "code",
      "execution_count": 1,
      "metadata": {
        "id": "ubTBxrgnzgHB"
      },
      "outputs": [],
      "source": [
        "import h5py\n",
        "import numpy as np\n",
        "import matplotlib.pyplot as plt"
      ]
    },
    {
      "cell_type": "markdown",
      "source": [
        "### Mount disk (Google Colab only)"
      ],
      "metadata": {
        "id": "nwBKii-X7f_1"
      }
    },
    {
      "cell_type": "markdown",
      "source": [
        "If you use Google Colab, please run the following cell to be able to read data from your google drive. Otherwise, skip the following cell."
      ],
      "metadata": {
        "id": "C3pshAFf7HE4"
      }
    },
    {
      "cell_type": "code",
      "source": [
        "from google.colab import drive\n",
        "drive.mount('/content/gdrive')"
      ],
      "metadata": {
        "colab": {
          "base_uri": "https://localhost:8080/"
        },
        "id": "Zz_Wa9-a0wLs",
        "outputId": "da2674dd-f2e8-4246-ef5e-ae9013d4a680"
      },
      "execution_count": 2,
      "outputs": [
        {
          "output_type": "stream",
          "name": "stdout",
          "text": [
            "Mounted at /content/gdrive\n"
          ]
        }
      ]
    },
    {
      "cell_type": "markdown",
      "source": [
        "### Set file path"
      ],
      "metadata": {
        "id": "OPuH6XAG8ETk"
      }
    },
    {
      "cell_type": "markdown",
      "source": [
        "Edit the following cell with your file path:"
      ],
      "metadata": {
        "id": "8g5Dvj4M8MGk"
      }
    },
    {
      "cell_type": "code",
      "source": [
        "filename = \"/content/gdrive/MyDrive/readDoric/Console_Acq_0000.doric\""
      ],
      "metadata": {
        "id": "1jlZYF7Zz6AY"
      },
      "execution_count": 3,
      "outputs": []
    },
    {
      "cell_type": "markdown",
      "source": [
        "### Print all file tree (optional)"
      ],
      "metadata": {
        "id": "CW65HAi58m88"
      }
    },
    {
      "cell_type": "markdown",
      "source": [
        "This allows you to identify the file path of each dataset of interest and its associated time vector. But feel free to skip this step, since you can check the file structure in the Doric File Editor of DNS software."
      ],
      "metadata": {
        "id": "KYq1ObkE82KS"
      }
    },
    {
      "cell_type": "code",
      "source": [
        "def printname(name):\n",
        "    print(name)\n",
        "with h5py.File(filename, 'r') as f:\n",
        "    f.visit(printname)"
      ],
      "metadata": {
        "id": "YeQo87tj0jxx",
        "colab": {
          "base_uri": "https://localhost:8080/"
        },
        "outputId": "4794c80a-cfda-48c9-9948-7015fc188fa8"
      },
      "execution_count": 4,
      "outputs": [
        {
          "output_type": "stream",
          "name": "stdout",
          "text": [
            "Configurations\n",
            "Configurations/FPConsole\n",
            "Configurations/FPConsole/AIN01\n",
            "Configurations/FPConsole/AIN01/GraphSettings\n",
            "Configurations/FPConsole/AIN01/Settings\n",
            "Configurations/FPConsole/AOUT01\n",
            "Configurations/FPConsole/AOUT01/GraphSettings\n",
            "Configurations/FPConsole/AOUT01/Modulations\n",
            "Configurations/FPConsole/AOUT01/Modulations/Modulation1\n",
            "Configurations/FPConsole/AOUT01/Settings\n",
            "Configurations/FPConsole/GlobalSettings\n",
            "Configurations/FPConsole/SavingSettings\n",
            "DataAcquisition\n",
            "DataAcquisition/FPConsole\n",
            "DataAcquisition/FPConsole/Signals\n",
            "DataAcquisition/FPConsole/Signals/Series0001\n",
            "DataAcquisition/FPConsole/Signals/Series0001/AnalogIn\n",
            "DataAcquisition/FPConsole/Signals/Series0001/AnalogIn/AIN01\n",
            "DataAcquisition/FPConsole/Signals/Series0001/AnalogIn/Time\n",
            "DataAcquisition/FPConsole/Signals/Series0001/AnalogOut\n",
            "DataAcquisition/FPConsole/Signals/Series0001/AnalogOut/AOUT01\n",
            "DataAcquisition/FPConsole/Signals/Series0001/AnalogOut/Time\n",
            "DataAcquisition/FPConsole/Signals/Series0002\n",
            "DataAcquisition/FPConsole/Signals/Series0002/AnalogIn\n",
            "DataAcquisition/FPConsole/Signals/Series0002/AnalogIn/AIN01\n",
            "DataAcquisition/FPConsole/Signals/Series0002/AnalogIn/Time\n",
            "DataAcquisition/FPConsole/Signals/Series0002/AnalogOut\n",
            "DataAcquisition/FPConsole/Signals/Series0002/AnalogOut/AOUT01\n",
            "DataAcquisition/FPConsole/Signals/Series0002/AnalogOut/Time\n",
            "DataAcquisition/FPConsole/Signals/Series0003\n",
            "DataAcquisition/FPConsole/Signals/Series0003/AnalogIn\n",
            "DataAcquisition/FPConsole/Signals/Series0003/AnalogIn/AIN01\n",
            "DataAcquisition/FPConsole/Signals/Series0003/AnalogIn/Time\n",
            "DataAcquisition/FPConsole/Signals/Series0003/AnalogOut\n",
            "DataAcquisition/FPConsole/Signals/Series0003/AnalogOut/AOUT01\n",
            "DataAcquisition/FPConsole/Signals/Series0003/AnalogOut/Time\n",
            "DataAcquisition/FPConsole/Signals/Series0004\n",
            "DataAcquisition/FPConsole/Signals/Series0004/AnalogIn\n",
            "DataAcquisition/FPConsole/Signals/Series0004/AnalogIn/AIN01\n",
            "DataAcquisition/FPConsole/Signals/Series0004/AnalogIn/Time\n",
            "DataAcquisition/FPConsole/Signals/Series0004/AnalogOut\n",
            "DataAcquisition/FPConsole/Signals/Series0004/AnalogOut/AOUT01\n",
            "DataAcquisition/FPConsole/Signals/Series0004/AnalogOut/Time\n"
          ]
        }
      ]
    },
    {
      "cell_type": "markdown",
      "source": [
        "Note that when using the Lock-In mode, the photometry demodulated signals have the following path naming: “DataAcquisition/FPConsole/Signals/Series#/AIN#xAOUT#-LockIn/Values” and associated Time vector: “DataAcquisition/FPConsole/Signals/Series#/AIN#xAOUT#-LockIn/Time”"
      ],
      "metadata": {
        "id": "Mm0zpyZWX0to"
      }
    },
    {
      "cell_type": "markdown",
      "source": [
        "### Load signals to numpy array"
      ],
      "metadata": {
        "id": "hYqS5gMv9LsK"
      }
    },
    {
      "cell_type": "markdown",
      "source": [
        "Check the file structure and pick the signals you would like to load. Paste the paths to selected datasets"
      ],
      "metadata": {
        "id": "WVM75zmn9RdL"
      }
    },
    {
      "cell_type": "code",
      "source": [
        "with h5py.File(filename, 'r') as f:\n",
        "    time = np.array(f[\"DataAcquisition/FPConsole/Signals/Series0003/AnalogIn/Time\"])\n",
        "    signal = np.array(f[\"DataAcquisition/FPConsole/Signals/Series0003/AnalogIn/AIN01\"])"
      ],
      "metadata": {
        "id": "cxpEnhvF6PFp"
      },
      "execution_count": 5,
      "outputs": []
    },
    {
      "cell_type": "markdown",
      "source": [
        "### Plot loaded signal"
      ],
      "metadata": {
        "id": "4oXKhxjP9mYb"
      }
    },
    {
      "cell_type": "code",
      "source": [
        "plt.plot(time, signal)"
      ],
      "metadata": {
        "colab": {
          "base_uri": "https://localhost:8080/",
          "height": 447
        },
        "id": "mSOGdYSj6jZp",
        "outputId": "43f34a20-0fc6-4bdd-a6e0-ed25ca0b9262"
      },
      "execution_count": 6,
      "outputs": [
        {
          "output_type": "execute_result",
          "data": {
            "text/plain": [
              "[<matplotlib.lines.Line2D at 0x78043d72c850>]"
            ]
          },
          "metadata": {},
          "execution_count": 6
        },
        {
          "output_type": "display_data",
          "data": {
            "text/plain": [
              "<Figure size 640x480 with 1 Axes>"
            ],
            "image/png": "[encoded data removed]"
          },
          "metadata": {}
        }
      ]
    },
    {
      "cell_type": "code",
      "source": [],
      "metadata": {
        "id": "H1LOc7DsYoZQ"
      },
      "execution_count": null,
      "outputs": []
    }
  ]
}